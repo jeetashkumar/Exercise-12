{
 "cells": [
  {
   "cell_type": "markdown",
   "id": "5c666261",
   "metadata": {},
   "source": [
    "Cloud Computing Services:\n",
    "\n",
    "AWS, Azure, Google Cloud: Cloud platforms that offer various data science services and computing resources.\n",
    "IBM Watson: A suite of AI and machine learning tools."
   ]
  },
  {
   "cell_type": "markdown",
   "id": "3632e60b",
   "metadata": {},
   "source": [
    "Programming Languages:\n",
    "\n",
    "Python: Widely used for data analysis, machine learning, and data visualization.\n",
    "\n",
    "R: Commonly used for statistical analysis and data visualization."
   ]
  },
  {
   "cell_type": "markdown",
   "id": "44849472",
   "metadata": {},
   "source": [
    "Integrated Development Environments (IDEs):\n",
    "\n",
    "Jupyter Notebook: Interactive environment for data analysis.\n",
    "\n",
    "RStudio: IDE for R programming.\n",
    "\n",
    "Visual Studio Code: A versatile code editor with data science extensions.\n",
    "\n",
    "PyCharm: Python-specific IDE with data science support."
   ]
  },
  {
   "cell_type": "markdown",
   "id": "385121ff",
   "metadata": {},
   "source": [
    "Data Manipulation and Analysis:\n",
    "\n",
    "NumPy: Library for numerical operations and handling arrays.\n",
    "\n",
    "pandas: Data manipulation and analysis library.\n",
    "\n",
    "SQL: For working with relational databases."
   ]
  },
  {
   "cell_type": "markdown",
   "id": "117792fd",
   "metadata": {},
   "source": [
    "Data Visualization:\n",
    "\n",
    "Matplotlib: Comprehensive library for creating static, animated, and interactive visualizations.\n",
    "\n",
    "Seaborn: Data visualization library based on Matplotlib.\n",
    "\n",
    "ggplot2: Data visualization package in R.\n",
    "\n",
    "Tableau: A powerful tool for creating interactive and shareable dashboards."
   ]
  },
  {
   "cell_type": "markdown",
   "id": "935fc9b6",
   "metadata": {},
   "source": [
    "Machine Learning and Deep Learning:\n",
    "\n",
    "Scikit-learn: Library for machine learning in Python.\n",
    "\n",
    "TensorFlow: An open-source machine learning framework.\n",
    "\n",
    "PyTorch: Open-source deep learning framework.\n",
    "\n",
    "Keras: High-level neural networks API."
   ]
  },
  {
   "cell_type": "markdown",
   "id": "8410c381",
   "metadata": {},
   "source": [
    "# AIRTHMETIC SETENCE"
   ]
  },
  {
   "cell_type": "code",
   "execution_count": 1,
   "id": "671aaf35",
   "metadata": {},
   "outputs": [
    {
     "data": {
      "text/plain": [
       "8"
      ]
     },
     "execution_count": 1,
     "metadata": {},
     "output_type": "execute_result"
    }
   ],
   "source": [
    "#Addition: \n",
    "5 + 3\n"
   ]
  },
  {
   "cell_type": "code",
   "execution_count": 2,
   "id": "2e682b29",
   "metadata": {},
   "outputs": [
    {
     "data": {
      "text/plain": [
       "6"
      ]
     },
     "execution_count": 2,
     "metadata": {},
     "output_type": "execute_result"
    }
   ],
   "source": [
    "#Subtraction: \n",
    "10 - 4\n"
   ]
  },
  {
   "cell_type": "code",
   "execution_count": 3,
   "id": "36bd3365",
   "metadata": {},
   "outputs": [
    {
     "data": {
      "text/plain": [
       "42"
      ]
     },
     "execution_count": 3,
     "metadata": {},
     "output_type": "execute_result"
    }
   ],
   "source": [
    "#Multiplication: \n",
    "6 * 7\n"
   ]
  },
  {
   "cell_type": "code",
   "execution_count": 4,
   "id": "ceeb5d3d",
   "metadata": {},
   "outputs": [
    {
     "data": {
      "text/plain": [
       "4.0"
      ]
     },
     "execution_count": 4,
     "metadata": {},
     "output_type": "execute_result"
    }
   ],
   "source": [
    "#Division: \n",
    "12 / 3\n"
   ]
  },
  {
   "cell_type": "code",
   "execution_count": 5,
   "id": "1f14fd93",
   "metadata": {},
   "outputs": [
    {
     "data": {
      "text/plain": [
       "6"
      ]
     },
     "execution_count": 5,
     "metadata": {},
     "output_type": "execute_result"
    }
   ],
   "source": [
    "#Exponentiation: \n",
    "2^4 #(2 raised to the power of 4)\n"
   ]
  },
  {
   "cell_type": "code",
   "execution_count": 7,
   "id": "5bb2e049",
   "metadata": {},
   "outputs": [],
   "source": [
    "#Square Root: √25 (Square root of 25)\n"
   ]
  },
  {
   "cell_type": "code",
   "execution_count": 8,
   "id": "f36dd74e",
   "metadata": {},
   "outputs": [
    {
     "data": {
      "text/plain": [
       "14"
      ]
     },
     "execution_count": 8,
     "metadata": {},
     "output_type": "execute_result"
    }
   ],
   "source": [
    "#Order of Operations: \n",
    "(3 + 4) * 2"
   ]
  },
  {
   "cell_type": "markdown",
   "id": "7b556b17",
   "metadata": {},
   "source": [
    "# H to M"
   ]
  },
  {
   "cell_type": "code",
   "execution_count": 9,
   "id": "fdec84aa",
   "metadata": {},
   "outputs": [
    {
     "name": "stdout",
     "output_type": "stream",
     "text": [
      "120 minutes is equal to 2.0 hours.\n"
     ]
    }
   ],
   "source": [
    "# Convert minutes to hours\n",
    "minutes = 120  # Replace this with the number of minutes you want to convert\n",
    "hours = minutes / 60\n",
    "print(f\"{minutes} minutes is equal to {hours} hours.\")\n"
   ]
  },
  {
   "cell_type": "markdown",
   "id": "c63ea663",
   "metadata": {},
   "source": [
    "# unordered list "
   ]
  },
  {
   "cell_type": "code",
   "execution_count": 10,
   "id": "b8708d15",
   "metadata": {},
   "outputs": [
    {
     "name": "stdout",
     "output_type": "stream",
     "text": [
      "Apple\n",
      "Banana\n",
      "Cherry\n",
      "Date\n",
      "Elderberry\n"
     ]
    }
   ],
   "source": [
    "# Define an unordered list\n",
    "my_list = [\"Apple\", \"Banana\", \"Cherry\", \"Date\", \"Elderberry\"]\n",
    "\n",
    "# Access and print the items in the list\n",
    "for item in my_list:\n",
    "    print(item)\n"
   ]
  },
  {
   "cell_type": "code",
   "execution_count": 12,
   "id": "5b2e5874",
   "metadata": {},
   "outputs": [
    {
     "data": {
      "text/plain": [
       "'\\nAuthor: Jeetash kumar\\nDate: October 22, 2023\\n'"
      ]
     },
     "execution_count": 12,
     "metadata": {},
     "output_type": "execute_result"
    }
   ],
   "source": [
    "\n",
    "'''\n",
    "Author: Jeetash kumar\n",
    "Date: October 22, 2023\n",
    "'''\n",
    "\n"
   ]
  },
  {
   "cell_type": "code",
   "execution_count": null,
   "id": "797b056f",
   "metadata": {},
   "outputs": [],
   "source": []
  }
 ],
 "metadata": {
  "kernelspec": {
   "display_name": "Python 3 (ipykernel)",
   "language": "python",
   "name": "python3"
  },
  "language_info": {
   "codemirror_mode": {
    "name": "ipython",
    "version": 3
   },
   "file_extension": ".py",
   "mimetype": "text/x-python",
   "name": "python",
   "nbconvert_exporter": "python",
   "pygments_lexer": "ipython3",
   "version": "3.10.9"
  }
 },
 "nbformat": 4,
 "nbformat_minor": 5
}
